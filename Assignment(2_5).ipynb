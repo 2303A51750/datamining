{
  "nbformat": 4,
  "nbformat_minor": 0,
  "metadata": {
    "colab": {
      "provenance": [],
      "authorship_tag": "ABX9TyPDhbL/YlhaIhWSqA/RH9P2",
      "include_colab_link": true
    },
    "kernelspec": {
      "name": "python3",
      "display_name": "Python 3"
    },
    "language_info": {
      "name": "python"
    }
  },
  "cells": [
    {
      "cell_type": "markdown",
      "metadata": {
        "id": "view-in-github",
        "colab_type": "text"
      },
      "source": [
        "<a href=\"https://colab.research.google.com/github/2303A51750/datamining/blob/main/Assignment(2_5).ipynb\" target=\"_parent\"><img src=\"https://colab.research.google.com/assets/colab-badge.svg\" alt=\"Open In Colab\"/></a>"
      ]
    },
    {
      "cell_type": "code",
      "source": [
        "import pandas as pd\n",
        "df=pd.read_csv(\"/content/student-dataset.csv\")\n",
        "print(df.head())"
      ],
      "metadata": {
        "colab": {
          "base_uri": "https://localhost:8080/"
        },
        "id": "k28mxe1_viox",
        "outputId": "bb3250cb-0f0d-461b-b452-44f2d58ee1e3"
      },
      "execution_count": 15,
      "outputs": [
        {
          "output_type": "stream",
          "name": "stdout",
          "text": [
            "   id             name               nationality                 city  \\\n",
            "0   0        Kiana Lor                     China               Suzhou   \n",
            "1   1   Joshua Lonaker  United States of America        Santa Clarita   \n",
            "2   2    Dakota Blanco  United States of America              Oakland   \n",
            "3   3  Natasha Yarusso  United States of America        Castro Valley   \n",
            "4   4   Brooke Cazares                    Brazil  São José dos Campos   \n",
            "\n",
            "   latitude  longitude gender  age  english.grade  math.grade  sciences.grade  \\\n",
            "0     31.31     120.62      F   22            3.5         3.7             3.1   \n",
            "1     34.39    -118.54      M   22            2.9         3.2             3.6   \n",
            "2     37.80    -122.27      F   22            3.9         3.8             3.2   \n",
            "3     37.69    -122.09      F   20            3.3         2.8             NaN   \n",
            "4    -23.18     -45.88      F   21            3.7         2.6             3.4   \n",
            "\n",
            "   language.grade  portfolio.rating  coverletter.rating  refletter.rating  \n",
            "0             1.0                 4                 4.0                 4  \n",
            "1             5.0                 5                 4.0                 5  \n",
            "2             5.0                 3                 3.0                 4  \n",
            "3             5.0                 5                 2.0                 4  \n",
            "4             1.0                 4                 4.0                 5  \n"
          ]
        }
      ]
    },
    {
      "cell_type": "code",
      "source": [
        "median_sciences_grade = df['sciences.grade'].median()\n",
        "df['sciences.grade_median'] = df['sciences.grade'].fillna(median_sciences_grade)\n",
        "print(\"Median Science Grade:\", median_sciences_grade)\n",
        "print(df.head())"
      ],
      "metadata": {
        "colab": {
          "base_uri": "https://localhost:8080/"
        },
        "id": "ilLdpCEL09UF",
        "outputId": "5215bb98-8a12-4a4f-d650-d0d640dbeed4"
      },
      "execution_count": 14,
      "outputs": [
        {
          "output_type": "stream",
          "name": "stdout",
          "text": [
            "Median Science Grade: 3.6\n",
            "   id             name               nationality                 city  \\\n",
            "0   0        Kiana Lor                     China               Suzhou   \n",
            "1   1   Joshua Lonaker  United States of America        Santa Clarita   \n",
            "2   2    Dakota Blanco  United States of America              Oakland   \n",
            "3   3  Natasha Yarusso  United States of America        Castro Valley   \n",
            "4   4   Brooke Cazares                    Brazil  São José dos Campos   \n",
            "\n",
            "   latitude  longitude gender  age  english.grade  math.grade  sciences.grade  \\\n",
            "0     31.31     120.62      F   22            3.5         3.7             3.1   \n",
            "1     34.39    -118.54      M   22            2.9         3.2             3.6   \n",
            "2     37.80    -122.27      F   22            3.9         3.8             3.2   \n",
            "3     37.69    -122.09      F   20            3.3         2.8             NaN   \n",
            "4    -23.18     -45.88      F   21            3.7         2.6             3.4   \n",
            "\n",
            "   language.grade  portfolio.rating  coverletter.rating  refletter.rating  \\\n",
            "0             1.0                 4                 4.0                 4   \n",
            "1             5.0                 5                 4.0                 5   \n",
            "2             5.0                 3                 3.0                 4   \n",
            "3             5.0                 5                 2.0                 4   \n",
            "4             1.0                 4                 4.0                 5   \n",
            "\n",
            "   sciences.grade_median  \n",
            "0                    3.1  \n",
            "1                    3.6  \n",
            "2                    3.2  \n",
            "3                    3.6  \n",
            "4                    3.4  \n"
          ]
        }
      ]
    },
    {
      "cell_type": "code",
      "source": [
        "import numpy as np\n",
        "from sklearn.preprocessing import MinMaxScaler\n",
        "data = df.select_dtypes(include=np.number)\n",
        "scaler = MinMaxScaler()\n",
        "normalized_data = scaler.fit_transform(data)\n",
        "print(\"Normalized Data (Min-Max Scaling):\")\n",
        "print(normalized_data)"
      ],
      "metadata": {
        "colab": {
          "base_uri": "https://localhost:8080/"
        },
        "id": "WCJuEq5D5xSe",
        "outputId": "5319edf6-d465-416b-b2f9-6f7a35069cba"
      },
      "execution_count": 20,
      "outputs": [
        {
          "output_type": "stream",
          "name": "stdout",
          "text": [
            "Normalized Data (Min-Max Scaling):\n",
            "[[0.         0.69380759 0.92722915 ... 0.75       0.75       0.75      ]\n",
            " [0.00326797 0.72680523 0.01746044 ... 1.         0.75       1.        ]\n",
            " [0.00653595 0.76333833 0.00327145 ... 0.5        0.5        0.75      ]\n",
            " ...\n",
            " [0.99346405 0.72316263 0.01860164 ... 1.         1.         0.5       ]\n",
            " [0.99673203 0.76333833 0.00327145 ... 0.75       0.75       1.        ]\n",
            " [1.         0.8262267  0.16627358 ... 1.         0.75       1.        ]]\n"
          ]
        }
      ]
    }
  ]
}